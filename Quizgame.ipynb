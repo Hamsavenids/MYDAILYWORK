{
 "cells": [
  {
   "cell_type": "code",
   "execution_count": null,
   "id": "a9a4e4de-b6eb-4432-8ee1-2f1409364b03",
   "metadata": {},
   "outputs": [
    {
     "name": "stdout",
     "output_type": "stream",
     "text": [
      "Welcome to the Quiz Game!\n",
      "Rules:\n",
      "1. You will be asked multiple-choice questions.\n",
      "2. Enter the number corresponding to your answer choice.\n",
      "3. Your score will be displayed at the end.\n",
      "Let's start the quiz!\n",
      "\n",
      "What is the capital of France?\n",
      "1. Paris\n",
      "2. London\n",
      "3. Berlin\n",
      "4. Rome\n"
     ]
    },
    {
     "name": "stdin",
     "output_type": "stream",
     "text": [
      "Your answer (1/2/3/4):  2\n"
     ]
    },
    {
     "name": "stdout",
     "output_type": "stream",
     "text": [
      "Incorrect!\n",
      "The correct answer was: 1. Paris\n",
      "\n",
      "Which planet is known as the Red Planet?\n",
      "1. Earth\n",
      "2. Mars\n",
      "3. Jupiter\n",
      "4. Venus\n"
     ]
    },
    {
     "name": "stdin",
     "output_type": "stream",
     "text": [
      "Your answer (1/2/3/4):  2\n"
     ]
    },
    {
     "name": "stdout",
     "output_type": "stream",
     "text": [
      "Correct!\n",
      "\n",
      "Who wrote 'To Kill a Mockingbird'?\n",
      "1. Harper Lee\n",
      "2. Mark Twain\n",
      "3. J.K. Rowling\n",
      "4. Ernest Hemingway\n"
     ]
    },
    {
     "name": "stdin",
     "output_type": "stream",
     "text": [
      "Your answer (1/2/3/4):  3\n"
     ]
    },
    {
     "name": "stdout",
     "output_type": "stream",
     "text": [
      "Incorrect!\n",
      "The correct answer was: 1. Harper Lee\n",
      "\n",
      "Your final score: 1/3\n",
      "Better luck next time!\n"
     ]
    }
   ],
   "source": [
    "# Simple Quiz Game in Python\n",
    "\n",
    "# List of quiz questions with options and correct answers\n",
    "quiz_questions = [\n",
    "    {\n",
    "        \"question\": \"What is the capital of France?\",\n",
    "        \"choices\": [\"1. Paris\", \"2. London\", \"3. Berlin\", \"4. Rome\"],\n",
    "        \"answer\": \"1\"\n",
    "    },\n",
    "    {\n",
    "        \"question\": \"Which planet is known as the Red Planet?\",\n",
    "        \"choices\": [\"1. Earth\", \"2. Mars\", \"3. Jupiter\", \"4. Venus\"],\n",
    "        \"answer\": \"2\"\n",
    "    },\n",
    "    {\n",
    "        \"question\": \"Who wrote 'To Kill a Mockingbird'?\",\n",
    "        \"choices\": [\"1. Harper Lee\", \"2. Mark Twain\", \"3. J.K. Rowling\", \"4. Ernest Hemingway\"],\n",
    "        \"answer\": \"1\"\n",
    "    }\n",
    "]\n",
    "\n",
    "def welcome_message():\n",
    "    print(\"Welcome to the Quiz Game!\")\n",
    "    print(\"Rules:\")\n",
    "    print(\"1. You will be asked multiple-choice questions.\")\n",
    "    print(\"2. Enter the number corresponding to your answer choice.\")\n",
    "    print(\"3. Your score will be displayed at the end.\")\n",
    "    print(\"Let's start the quiz!\\n\")\n",
    "\n",
    "def load_questions():\n",
    "    score = 0\n",
    "    for question in quiz_questions:\n",
    "        print(question[\"question\"])\n",
    "        for choice in question[\"choices\"]:\n",
    "            print(choice)\n",
    "        user_answer = input(\"Your answer (1/2/3/4): \")\n",
    "        \n",
    "        # Evaluate the answer\n",
    "        if user_answer == question[\"answer\"]:\n",
    "            print(\"Correct!\\n\")\n",
    "            score += 1\n",
    "        else:\n",
    "            print(\"Incorrect!\")\n",
    "            correct_choice = question[\"choices\"][int(question[\"answer\"]) - 1]\n",
    "            print(f\"The correct answer was: {correct_choice}\\n\")\n",
    "    \n",
    "    return score\n",
    "\n",
    "def display_final_results(score):\n",
    "    total_questions = len(quiz_questions)\n",
    "    print(f\"Your final score: {score}/{total_questions}\")\n",
    "    if score == total_questions:\n",
    "        print(\"Excellent work!\")\n",
    "    elif score >= total_questions / 2:\n",
    "        print(\"Good job!\")\n",
    "    else:\n",
    "        print(\"Better luck next time!\")\n",
    "\n",
    "def play_again():\n",
    "    while True:\n",
    "        choice = input(\"Do you want to play again? (yes/no): \").lower()\n",
    "        if choice == 'yes':\n",
    "            return True\n",
    "        elif choice == 'no':\n",
    "            return False\n",
    "        else:\n",
    "            print(\"Invalid input. Please type 'yes' or 'no'.\")\n",
    "\n",
    "def quiz_game():\n",
    "    welcome_message()\n",
    "    \n",
    "    # Load questions and calculate score\n",
    "    score = load_questions()\n",
    "    \n",
    "    # Display the final results\n",
    "    display_final_results(score)\n",
    "    \n",
    "    # Ask if the user wants to play again\n",
    "    if play_again():\n",
    "        print(\"\\nRestarting the quiz...\\n\")\n",
    "        quiz_game()\n",
    "    else:\n",
    "        print(\"Thanks for playing!\")\n",
    "\n",
    "if __name__ == \"__main__\":\n",
    "    quiz_game()\n"
   ]
  },
  {
   "cell_type": "code",
   "execution_count": null,
   "id": "6b138c97-8e58-4629-a404-3ed9ec45891c",
   "metadata": {},
   "outputs": [],
   "source": []
  }
 ],
 "metadata": {
  "kernelspec": {
   "display_name": "Python 3 (ipykernel)",
   "language": "python",
   "name": "python3"
  },
  "language_info": {
   "codemirror_mode": {
    "name": "ipython",
    "version": 3
   },
   "file_extension": ".py",
   "mimetype": "text/x-python",
   "name": "python",
   "nbconvert_exporter": "python",
   "pygments_lexer": "ipython3",
   "version": "3.12.4"
  }
 },
 "nbformat": 4,
 "nbformat_minor": 5
}
