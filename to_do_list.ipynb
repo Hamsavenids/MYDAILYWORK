{
 "cells": [
  {
   "cell_type": "code",
   "execution_count": null,
   "id": "d9e6a681-1a88-4ded-aeb6-7bdfc98a069a",
   "metadata": {},
   "outputs": [
    {
     "name": "stdout",
     "output_type": "stream",
     "text": [
      "\n",
      "To-Do List Menu:\n",
      "1. View To-Do List\n",
      "2. Add Task\n",
      "3. Mark Task as Completed\n",
      "4. Delete Task\n",
      "5. Exit\n"
     ]
    }
   ],
   "source": [
    "to_do_list = []\n",
    "\n",
    "def display_tasks():\n",
    "    if len(to_do_list) == 0:\n",
    "        print(\"\\nYour to-do list is empty!\")\n",
    "    else:\n",
    "        print(\"\\nTo-Do List:\")\n",
    "        for i, task in enumerate(to_do_list, 1):\n",
    "            status = '✓' if task['completed'] else '✗'\n",
    "            print(f\"{i}. {task['task']} - {status}\")\n",
    "\n",
    "def add_task():\n",
    "    task = input(\"Enter a new task: \")\n",
    "    to_do_list.append({'task': task, 'completed': False})\n",
    "    print(f\"Task '{task}' added!\")\n",
    "\n",
    "def mark_completed():\n",
    "    display_tasks()\n",
    "    task_num = int(input(\"Enter the task number to mark as completed: \")) - 1\n",
    "    if 0 <= task_num < len(to_do_list):\n",
    "        to_do_list[task_num]['completed'] = True\n",
    "        print(f\"Task '{to_do_list[task_num]['task']}' marked as completed!\")\n",
    "    else:\n",
    "        print(\"Invalid task number!\")\n",
    "\n",
    "def delete_task():\n",
    "    display_tasks()\n",
    "    task_num = int(input(\"Enter the task number to delete: \")) - 1\n",
    "    if 0 <= task_num < len(to_do_list):\n",
    "        removed_task = to_do_list.pop(task_num)\n",
    "        print(f\"Task '{removed_task['task']}' deleted!\")\n",
    "    else:\n",
    "        print(\"Invalid task number!\")\n",
    "\n",
    "def main():\n",
    "    while True:\n",
    "        print(\"\\nTo-Do List Menu:\")\n",
    "        print(\"1. View To-Do List\")\n",
    "        print(\"2. Add Task\")\n",
    "        print(\"3. Mark Task as Completed\")\n",
    "        print(\"4. Delete Task\")\n",
    "        print(\"5. Exit\")\n",
    "        \n",
    "        choice = input(\"Enter your choice: \")\n",
    "        \n",
    "        if choice == '1':\n",
    "            display_tasks()\n",
    "        elif choice == '2':\n",
    "            add_task()\n",
    "        elif choice == '3':\n",
    "            mark_completed()\n",
    "        elif choice == '4':\n",
    "            delete_task()\n",
    "        elif choice == '5':\n",
    "            print(\"Exiting To-Do List. Goodbye!\")\n",
    "            break\n",
    "        else:\n",
    "            print(\"Invalid choice, please try again!\")\n",
    "\n",
    "if __name__ == \"__main__\":\n",
    "    main()"
   ]
  },
  {
   "cell_type": "code",
   "execution_count": null,
   "id": "edd52517-33c5-4e30-90b8-9e502dc31f31",
   "metadata": {},
   "outputs": [],
   "source": []
  }
 ],
 "metadata": {
  "kernelspec": {
   "display_name": "Python 3 (ipykernel)",
   "language": "python",
   "name": "python3"
  },
  "language_info": {
   "codemirror_mode": {
    "name": "ipython",
    "version": 3
   },
   "file_extension": ".py",
   "mimetype": "text/x-python",
   "name": "python",
   "nbconvert_exporter": "python",
   "pygments_lexer": "ipython3",
   "version": "3.12.4"
  }
 },
 "nbformat": 4,
 "nbformat_minor": 5
}
